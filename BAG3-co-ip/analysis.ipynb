{
 "cells": [
  {
   "cell_type": "raw",
   "metadata": {},
   "source": [
    "<script>\n",
    "  function code_toggle() {\n",
    "    if (code_shown){\n",
    "      $('div.input').hide('500');\n",
    "      $('#toggleButton').val('Show Code')\n",
    "    } else {\n",
    "      $('div.input').show('500');\n",
    "      $('#toggleButton').val('Hide Code')\n",
    "    }\n",
    "    code_shown = !code_shown\n",
    "  }\n",
    "\n",
    "  $( document ).ready(function(){\n",
    "    code_shown=false;\n",
    "    $('div.input').hide()\n",
    "  });\n",
    "</script>\n",
    "<form action=\"javascript:code_toggle()\"><input type=\"submit\" id=\"toggleButton\" value=\"Show Code\"></form>"
   ]
  },
  {
   "cell_type": "markdown",
   "metadata": {},
   "source": [
    "# BAG3 Co-IP Watson Analysis\n",
    "##### by Emir Turkes\n",
    "\n",
    "This analysis utilizes Watson for Drug Discovery to validate Co-IP MS (co-immunoprecipitation mass spectrometry) data with BAG3 as the primary target. There are 4 goals thus far:\n",
    "1. Correlation of the data with that of IBM's knowledge base to get a sense of where it stands against existing literature.\n",
    "2. Clustering of the Co-IP'ed proteins into various ontological groups (disease relevance, biochemical pathways, and chemical classification come to mind)\n",
    "3. Breakdown of upstream, downstream, and intermediate biochemical pathways between Co-IP'ed proteins and their clusters.\n",
    "4. Confirmation of enrichment of proteins involved in endocytosis/membrane fusion event and dendritic localization/function"
   ]
  },
  {
   "cell_type": "code",
   "execution_count": null,
   "metadata": {},
   "outputs": [],
   "source": [
    "#!/usr/bin/env python3\n",
    "# -*- coding: utf-8 -*\n",
    "\n",
    "# Copyright 2019 Emir Turkes\n",
    "# \n",
    "# Licensed under the Apache License, Version 2.0 (the \"License\");\n",
    "# you may not use this file except in compliance with the License.\n",
    "# You may obtain a copy of the License at\n",
    "# \n",
    "#     http://www.apache.org/licenses/LICENSE-2.0\n",
    "# \n",
    "# Unless required by applicable law or agreed to in writing, software\n",
    "# distributed under the License is distributed on an \"AS IS\" BASIS,\n",
    "# WITHOUT WARRANTIES OR CONDITIONS OF ANY KIND, either express or implied.\n",
    "# See the License for the specific language governing permissions and\n",
    "# limitations under the License.\n",
    "\n",
    "\"\"\"The main analysis routine.\"\"\"\n",
    "\n",
    "\n",
    "import os\n",
    "import types\n",
    "\n",
    "import pandas as pd\n",
    "\n",
    "import ibm_botocore.client as ic\n",
    "import ibm_boto3 as ib\n",
    "import pixiedust"
   ]
  },
  {
   "cell_type": "code",
   "execution_count": null,
   "metadata": {},
   "outputs": [],
   "source": [
    "# Read in data.    \n",
    "body = client_75340283764447f99797650de21e6211.get_object(Bucket='bag3coip-donotdelete-pr-wlavvdgoryxgjb',Key='co_ip_no_keratin2.csv')['Body']\n",
    "if not hasattr(body, \"__iter__\"): body.__iter__ = types.MethodType( __iter__, body )\n",
    "co_ip_df = pd.read_csv(body, na_values = ['#VALUE!', '#DIV/0!'])\n",
    "\n",
    "# Sort by \"fold of changes\".\n",
    "cols = [\"fold of changes\"]\n",
    "co_ip_df.drop(0, inplace=True)\n",
    "co_ip_df.dropna(axis=0, subset=cols, inplace=True)\n",
    "co_ip_df[cols] = co_ip_df[cols].astype('int')\n",
    "#co_ip_df.sort_values(by=cols, inplace=True, ascending=False)\n",
    "\n",
    "# Reduce to two columns and top 10 genes.\n",
    "cols = [\"Unnamed: 1\", \"fold of changes\"]\n",
    "co_ip_df = co_ip_df[cols]\n",
    "co_ip_df.rename(columns={\"Unnamed: 1\": \"Genes\", \"fold of changes\": \"Fold change\"}, inplace=True)\n",
    "co_ip_df = co_ip_df.head(20)\n",
    "\n",
    "# Cut string to only gene name and capitalize.\n",
    "cols = \"Genes\"\n",
    "co_ip_df[cols] = co_ip_df[cols].str.extract(\"((?<=GN=).*(?= PE=))\", expand=True)\n",
    "co_ip_df[\"Genes\"] = co_ip_df[\"Genes\"].str.upper()\n",
    "\n",
    "\n",
    "## Replace gene names with Watson entities.\n",
    "entity_set_df = pd.read_csv(body, na_values = ['#VALUE!', '#DIV/0!'])\n",
    "entity_set_df.index = entity_set_df.index + 1\n",
    "entity_set_df\n",
    "co_ip_df[\"Genes\"] = entity_set_df[\"Entity name\"]\n",
    "\n",
    "co_ip_df"
   ]
  },
  {
   "cell_type": "markdown",
   "metadata": {},
   "source": [
    "### Watson Explore Networks\n",
    "\n",
    "First, a visualization of the relationship between the top 20 genes based on literature reporting of their modulation of BAG3."
   ]
  },
  {
   "cell_type": "markdown",
   "metadata": {},
   "source": [
    "### Generate confidence scores\n",
    "\n",
    "Watson scores the likelihood of a relationship as happening above chance through a scale ranging from 0-100."
   ]
  },
  {
   "cell_type": "code",
   "execution_count": null,
   "metadata": {},
   "outputs": [],
   "source": [
    "# Read in data.\n",
    "relationship_graph_df = pd.read_csv(body, na_values = ['#VALUE!', '#DIV/0!'])\n",
    "\n",
    "# Sort by \"Confidence\".\n",
    "cols = [\"Confidence\"]\n",
    "relationship_graph_df.drop(0, inplace=True)\n",
    "relationship_graph_df.dropna(axis=0, subset=cols, inplace=True)\n",
    "relationship_graph_df[cols] = relationship_graph_df[cols].astype('int')\n",
    "relationship_graph_df.sort_values(by=cols, inplace=True, ascending=False)\n",
    "\n",
    "# Only show relationships directly involving BAG3\n",
    "relationship_graph_df = relationship_graph_df[\n",
    "    relationship_graph_df[\"Source name\"].str.contains('BAG3') |\n",
    "    relationship_graph_df[\"Target name\"].str.contains('BAG3')\n",
    "]\n",
    "\n",
    "# Reduce to three columns.\n",
    "cols = [\"Source name\", \"Target name\", \"Confidence\"]\n",
    "relationship_graph_df = relationship_graph_df[cols]\n",
    "\n",
    "display(relationship_graph_df)"
   ]
  },
  {
   "cell_type": "markdown",
   "metadata": {},
   "source": [
    "### Merge confidence scores with the Co-IP gene list\n",
    "\n",
    "Rows that do not have a common gene are filled with the value \"NaN\"."
   ]
  },
  {
   "cell_type": "code",
   "execution_count": null,
   "metadata": {},
   "outputs": [],
   "source": [
    "#co_ip_df = co_ip_df.assign(Confidence=co_ip_df['Genes'].isin(\n",
    "#    relationship_graph_df['Target name']).astype(int)\n",
    "#                          )\n",
    "merge_df = co_ip_df\n",
    "merge_df.at[5, \"Confidence\"] = 88\n",
    "merge_df.at[19, \"Confidence\"] = 57\n",
    "#co_ip_df[\"Confidence\"] = np.where(co_ip_df[\"Genes\"].isin(\n",
    "#    relationship_graph_df['Target name']), 81, 0\n",
    "#                                 )\n",
    "display(merge_df)"
   ]
  },
  {
   "cell_type": "markdown",
   "metadata": {},
   "source": [
    "### Reduce list to common genes only\n",
    "\n",
    "It appears that only two highly Co-IP'ed genes could be backed up by Watson's literature mining, even without any filtering or thresholds.  \n",
    "The next step is to verify that the mining run was done or interpreted properly."
   ]
  },
  {
   "cell_type": "code",
   "execution_count": null,
   "metadata": {},
   "outputs": [],
   "source": [
    "display(merge_df.loc[[5, 19]])"
   ]
  }
 ],
 "metadata": {
  "kernelspec": {
   "display_name": "Python 3",
   "language": "python",
   "name": "python3"
  },
  "language_info": {
   "codemirror_mode": {
    "name": "ipython",
    "version": 3
   },
   "file_extension": ".py",
   "mimetype": "text/x-python",
   "name": "python",
   "nbconvert_exporter": "python",
   "pygments_lexer": "ipython3",
   "version": "3.6.7"
  }
 },
 "nbformat": 4,
 "nbformat_minor": 2
}
