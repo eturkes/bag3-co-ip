{
 "cells": [
  {
   "cell_type": "code",
   "execution_count": null,
   "metadata": {},
   "outputs": [],
   "source": [
    "#!/usr/bin/env python3\n",
    "# -*- coding: utf-8 -*\n",
    "\n",
    "# Copyright 2019 Emir Turkes\n",
    "# \n",
    "# Licensed under the Apache License, Version 2.0 (the \"License\");\n",
    "# you may not use this file except in compliance with the License.\n",
    "# You may obtain a copy of the License at\n",
    "# \n",
    "#     http://www.apache.org/licenses/LICENSE-2.0\n",
    "# \n",
    "# Unless required by applicable law or agreed to in writing, software\n",
    "# distributed under the License is distributed on an \"AS IS\" BASIS,\n",
    "# WITHOUT WARRANTIES OR CONDITIONS OF ANY KIND, either express or implied.\n",
    "# See the License for the specific language governing permissions and\n",
    "# limitations under the License.\n",
    "\n",
    "\"\"\"The main analysis routine.\"\"\"\n",
    "\n",
    "\n",
    "import os\n",
    "import types\n",
    "\n",
    "import pandas as pd\n",
    "\n",
    "import ibm_botocore.client as ic\n",
    "import ibm_boto3 as ib\n",
    "import pixiedust"
   ]
  },
  {
   "cell_type": "code",
   "execution_count": null,
   "metadata": {},
   "outputs": [],
   "source": [
    "# IBM Watson Studio-specific code for retrieval of data from storage."
   ]
  },
  {
   "cell_type": "code",
   "execution_count": null,
   "metadata": {},
   "outputs": [],
   "source": [
    "# Read in data.\n",
    "co_ip_df = pd.read_csv(body, na_values = ['#VALUE!', '#DIV/0!'])\n",
    "\n",
    "# Sort by \"fold of changes\".\n",
    "cols = [\"fold of changes\"]\n",
    "co_ip_df.drop(0, inplace=True)\n",
    "co_ip_df.dropna(axis=0, subset=cols, inplace=True)\n",
    "co_ip_df[cols] = co_ip_df[cols].astype('int')\n",
    "co_ip_df.sort_values(by=cols, inplace=True, ascending=False)\n",
    "\n",
    "# Reduce to two columns.\n",
    "cols = [\"Unnamed: 1\", \"fold of changes\"]\n",
    "co_ip_df = co_ip_df[cols]\n",
    "co_ip_df.rename(columns={\"Unnamed: 1\": \"genes\", \"fold of changes\": \"fold_change\"}, inplace=True)\n",
    "\n",
    "# Cut string to only gene name.\n",
    "cols=\"genes\"\n",
    "co_ip_df[cols] = co_ip_df[cols].str.extract(\"((?<=GN=).*(?= PE=))\", expand=True)"
   ]
  },
  {
   "cell_type": "code",
   "execution_count": null,
   "metadata": {},
   "outputs": [],
   "source": [
    "co_ip_df"
   ]
  }
 ],
 "metadata": {
  "kernelspec": {
   "display_name": "Python 3",
   "language": "python",
   "name": "python3"
  },
  "language_info": {
   "codemirror_mode": {
    "name": "ipython",
    "version": 3
   },
   "file_extension": ".py",
   "mimetype": "text/x-python",
   "name": "python",
   "nbconvert_exporter": "python",
   "pygments_lexer": "ipython3",
   "version": "3.6.7"
  }
 },
 "nbformat": 4,
 "nbformat_minor": 2
}
