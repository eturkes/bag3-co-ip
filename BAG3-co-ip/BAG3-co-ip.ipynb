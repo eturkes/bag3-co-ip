{
    "nbformat_minor": 1, 
    "cells": [
        {
            "source": "<script>\n  function code_toggle() {\n    if (code_shown){\n      $('div.input').hide('500');\n      $('#toggleButton').val('Show Code')\n    } else {\n      $('div.input').show('500');\n      $('#toggleButton').val('Hide Code')\n    }\n    code_shown = !code_shown\n  }\n\n  $( document ).ready(function(){\n    code_shown=false;\n    $('div.input').hide()\n  });\n</script>\n<form action=\"javascript:code_toggle()\"><input type=\"submit\" id=\"toggleButton\" value=\"Show Code\"></form>", 
            "cell_type": "raw", 
            "metadata": {}
        }, 
        {
            "source": "# BAG3 Co-IP Pathway and Watson Analysis\n##### by Emir Turkes\n\nThis analysis utilizes pathway analysis and Watson for Drug Discovery to validate Co-IP MS (co-immunoprecipitation mass spectrometry) data with `BAG3` as the primary target. There are 4 goals thus far:\n1. Correlation of our results with that of IBM's knowledge base to get a sense of where it stands against existing literature.\n1. Clustering of the Co-IP'ed proteins into various ontological groups (disease relevance, biochemical pathways, and chemical classification).\n1. Breakdown of upstream, downstream, and intermediate biochemical pathways between Co-IP'ed proteins and their clusters.\n1. Confirmation of enrichment of proteins involved in endocytosis/membrane fusion event and dendritic localization/function.", 
            "cell_type": "markdown", 
            "metadata": {}
        }, 
        {
            "execution_count": 7, 
            "cell_type": "code", 
            "metadata": {}, 
            "outputs": [], 
            "source": "#!/usr/bin/env python3\n# -*- coding: utf-8 -*\n\n# Copyright 2019 Emir Turkes\n# \n# Licensed under the Apache License, Version 2.0 (the \"License\");\n# you may not use this file except in compliance with the License.\n# You may obtain a copy of the License at\n# \n#     http://www.apache.org/licenses/LICENSE-2.0\n# \n# Unless required by applicable law or agreed to in writing, software\n# distributed under the License is distributed on an \"AS IS\" BASIS,\n# WITHOUT WARRANTIES OR CONDITIONS OF ANY KIND, either express or implied.\n# See the License for the specific language governing permissions and\n# limitations under the License.\n\n\"\"\"The main analysis routine.\"\"\"\n\n\nimport os\nimport types\n\nimport numpy as np\nimport pandas as pd\n\nimport ibm_botocore.client as ic\nimport ibm_boto3 as ib\nimport pixiedust"
        }, 
        {
            "execution_count": 8, 
            "cell_type": "code", 
            "metadata": {
                "pixiedust": {
                    "displayParams": {}
                }, 
                "scrolled": false
            }, 
            "outputs": [], 
            "source": "# The code was removed by Watson Studio for sharing."
        }, 
        {
            "source": "### Cleaning of Co-IP MS data\n\nThe experimental design consists of `BAG3` as bait and has an `shBAG3` treatment group to knockdown `BAG3`, as well as an `scrRNA` control group. Without the treatment group, we cannot know if a protein was pulled up due to a true interaction with `BAG3` or simply from running the assay itself. \n\n**Our primary measurement of interest is fold change of protein abundance counts, which represents a simple ratio:**\n\n$\n\\begin{equation*}\nFC = \\frac{scrRNA}{shBAG3}\n\\end{equation*}\n$\n\n*FC obtained in our data involved additional standard QC steps using Proteome Discoverer and are described in detail in its [manual](https://assets.thermofisher.com/TFS-Assets/CMD/manuals/Man-XCALI-97808-Proteome-Discoverer-User-ManXCALI97808-EN.pdf).*\n\n**From these fold changes we intend to generate a ranked list of `BAG3`-associated proteins for Watson and pathway analysis.**\n\nAn important consideration is that the experiment was done without replicates, which are required for standard hypothesis testing of true protein-protein interactions. It also complicates the treatment of missing values and low abundance counts. While there is ample literature discussing this topic in general (see [Moorthy et al., 2014](10.1186/1752-0509-7-S6-S12) for one review), there is little that pertains to Co-IP MS specifically. Therefore, the following workarounds should be interpreted cautiously.\n\nTo begin, we perform some basic pre-calculation cleaning of the Proteome Discoverer output and explore it below.", 
            "cell_type": "markdown", 
            "metadata": {}
        }, 
        {
            "source": "*94 rows, truncated to 10 for readability*", 
            "cell_type": "markdown", 
            "metadata": {}
        }, 
        {
            "execution_count": 10, 
            "cell_type": "code", 
            "metadata": {
                "pixiedust": {
                    "displayParams": {
                        "rowCount": "100", 
                        "table_nocount": "true", 
                        "aggregation": "SUM", 
                        "table_showrows": "All", 
                        "handlerId": "tableView", 
                        "valueFields": "Fold change", 
                        "rendererId": "bokeh", 
                        "table_noschema": "true", 
                        "keyFields": "Genes", 
                        "table_nosearch": "true"
                    }
                }, 
                "scrolled": false
            }, 
            "outputs": [
                {
                    "output_type": "display_data", 
                    "data": {
                        "text/html": "<style type=\"text/css\">.pd_warning{display:none;}</style><div class=\"pd_warning\"><em>Hey, there's something awesome here! To see it, open this notebook outside GitHub, in a viewer like Jupyter</em></div>\n        <div class=\"pd_save is-viewer-good\" style=\"padding-right:10px;text-align: center;line-height:initial !important;font-size: xx-large;font-weight: 500;color: coral;\">\n            \n        </div>\n    <div id=\"chartFigure23d44950\" class=\"pd_save is-viewer-good\" style=\"overflow-x:auto\">\n            <style type=\"text/css\" class=\"pd_save\">\n    .df-table-wrapper .panel-heading {\n      border-radius: 0;\n      padding: 0px;\n    }\n    .df-table-wrapper .panel-heading:hover {\n      border-color: #008571;\n    }\n    .df-table-wrapper .panel-title a {\n      background-color: #f9f9fb;\n      color: #333333;\n      display: block;\n      outline: none;\n      padding: 10px 15px;\n      text-decoration: none;\n    }\n    .df-table-wrapper .panel-title a:hover {\n      background-color: #337ab7;\n      border-color: #2e6da4;\n      color: #ffffff;\n      display: block;\n      padding: 10px 15px;\n      text-decoration: none;\n    }\n    .df-table-wrapper {\n      font-size: small;\n      font-weight: 300;\n      letter-spacing: 0.5px;\n      line-height: normal;\n      height: inherit;\n      overflow: auto;\n    }\n    .df-table-search {\n      margin: 0 0 20px 0;\n    }\n    .df-table-search-count {\n      display: inline-block;\n      margin: 0 0 20px 0;\n    }\n    .df-table-container {\n      max-height: 50vh;\n      max-width: 100%;\n      overflow-x: auto;\n      position: relative;\n    }\n    .df-table-wrapper table {\n      border: 0 none #ffffff;\n      border-collapse: collapse;\n      margin: 0;\n      min-width: 100%;\n      padding: 0;\n      table-layout: fixed;\n      height: inherit;\n      overflow: auto;\n    }\n    .df-table-wrapper tr.hidden {\n      display: none;\n    }\n    .df-table-wrapper tr:nth-child(even) {\n      background-color: #f9f9fb;\n    }\n    .df-table-wrapper tr.even {\n      background-color: #f9f9fb;\n    }\n    .df-table-wrapper tr.odd {\n      background-color: #ffffff;\n    }\n    .df-table-wrapper td + td {\n      border-left: 1px solid #e0e0e0;\n    }\n  \n    .df-table-wrapper thead,\n    .fixed-header {\n      font-weight: 600;\n    }\n    .df-table-wrapper tr,\n    .fixed-row {\n      border: 0 none #ffffff;\n      margin: 0;\n      padding: 0;\n    }\n    .df-table-wrapper th,\n    .df-table-wrapper td,\n    .fixed-cell {\n      border: 0 none #ffffff;\n      margin: 0;\n      min-width: 50px;\n      padding: 5px 20px 5px 10px;\n      text-align: left;\n      word-wrap: break-word;\n    }\n    .df-table-wrapper th {\n      padding-bottom: 0;\n      padding-top: 0;\n    }\n    .df-table-wrapper th div {\n      max-height: 1px;\n      visibility: hidden;\n    }\n  \n    .df-schema-field {\n      margin-left: 10px;\n    }\n  \n    .fixed-header-container {\n      overflow: hidden;\n      position: relative;\n    }\n    .fixed-header {\n      border-bottom: 2px solid #000;\n      display: table;\n      position: relative;\n    }\n    .fixed-row {\n      display: table-row;\n    }\n    .fixed-cell {\n      display: table-cell;\n    }\n  </style>\n  \n  \n  <div class=\"df-table-wrapper df-table-wrapper-23d44950 panel-group pd_save\">\n    <!-- dataframe schema -->\n    \n    <!-- dataframe table -->\n    <div class=\"panel panel-default\" style=\"border:none;\">\n      \n      <div id=\"df-table-23d44950\" class=\"panel-collapse collapse in\">\n        <div class=\"panel-body\">\n          \n          <div>\n            \n          </div>\n          <!-- fixed header for when dataframe table scrolls -->\n          <div class=\"fixed-header-container\">\n            <div class=\"fixed-header\">\n              <div class=\"fixed-row\">\n                \n                <div class=\"fixed-cell\">Rank</div>\n                \n                <div class=\"fixed-cell\">Genes</div>\n                \n                <div class=\"fixed-cell\">Abundance Ratio (log2)</div>\n                \n                <div class=\"fixed-cell\">scrRNA Abundance</div>\n                \n                <div class=\"fixed-cell\">shBAG3 Abundance</div>\n                \n              </div>\n            </div>\n          </div>\n          <div class=\"df-table-container\">\n            <table class=\"df-table\">\n              <thead>\n                <tr>\n                  \n                  <th><div>Rank</div></th>\n                  \n                  <th><div>Genes</div></th>\n                  \n                  <th><div>Abundance Ratio (log2)</div></th>\n                  \n                  <th><div>scrRNA Abundance</div></th>\n                  \n                  <th><div>shBAG3 Abundance</div></th>\n                  \n                </tr>\n              </thead>\n              <tbody>\n                \n                <tr>\n                  \n                  <td>1</td>\n                  \n                  <td>KIF2A</td>\n                  \n                  <td>6.64</td>\n                  \n                  <td>2.0</td>\n                  \n                  <td>nan</td>\n                  \n                </tr>\n                \n                <tr>\n                  \n                  <td>2</td>\n                  \n                  <td>TUBB3</td>\n                  \n                  <td>6.64</td>\n                  \n                  <td>2.0</td>\n                  \n                  <td>nan</td>\n                  \n                </tr>\n                \n                <tr>\n                  \n                  <td>3</td>\n                  \n                  <td>TUBGCP3</td>\n                  \n                  <td>6.64</td>\n                  \n                  <td>2.0</td>\n                  \n                  <td>nan</td>\n                  \n                </tr>\n                \n                <tr>\n                  \n                  <td>4</td>\n                  \n                  <td>IQSEC3</td>\n                  \n                  <td>6.64</td>\n                  \n                  <td>2.0</td>\n                  \n                  <td>nan</td>\n                  \n                </tr>\n                \n                <tr>\n                  \n                  <td>5</td>\n                  \n                  <td>PTN</td>\n                  \n                  <td>6.64</td>\n                  \n                  <td>2.0</td>\n                  \n                  <td>1.0</td>\n                  \n                </tr>\n                \n                <tr>\n                  \n                  <td>6</td>\n                  \n                  <td>CLASP2</td>\n                  \n                  <td>6.64</td>\n                  \n                  <td>2.0</td>\n                  \n                  <td>nan</td>\n                  \n                </tr>\n                \n                <tr>\n                  \n                  <td>7</td>\n                  \n                  <td>TUBB2B</td>\n                  \n                  <td>6.64</td>\n                  \n                  <td>2.0</td>\n                  \n                  <td>nan</td>\n                  \n                </tr>\n                \n                <tr>\n                  \n                  <td>8</td>\n                  \n                  <td>BAG5</td>\n                  \n                  <td>6.64</td>\n                  \n                  <td>14.0</td>\n                  \n                  <td>3.0</td>\n                  \n                </tr>\n                \n                <tr>\n                  \n                  <td>9</td>\n                  \n                  <td>HIST1H4B</td>\n                  \n                  <td>6.64</td>\n                  \n                  <td>2.0</td>\n                  \n                  <td>1.0</td>\n                  \n                </tr>\n                \n                <tr>\n                  \n                  <td>10</td>\n                  \n                  <td>YWHAG</td>\n                  \n                  <td>6.64</td>\n                  \n                  <td>2.0</td>\n                  \n                  <td>1.0</td>\n                  \n                </tr>\n                \n              </tbody>\n            </table>\n          </div>\n        </div>\n      </div>\n    </div>\n  </div>\n  \n  <script class=\"pd_save\">\n    $(function() {\n      var tableWrapper = $('.df-table-wrapper-23d44950');\n      var fixedHeader = $('.fixed-header', tableWrapper);\n      var tableContainer = $('.df-table-container', tableWrapper);\n      var table = $('.df-table', tableContainer);\n      var rows = $('tbody > tr', table);\n      var total = 10;\n  \n      fixedHeader\n        .css('width', table.width())\n        .find('.fixed-cell')\n        .each(function(i, e) {\n          $(this).css('width', $('.df-table-wrapper-23d44950 th:nth-child(' + (i+1) + ')').css('width'));\n        });\n  \n      tableContainer.scroll(function() {\n        fixedHeader.css({ left: table.position().left });\n      });\n  \n      rows.on(\"click\", function(e){\n          var txt = e.delegateTarget.innerText;\n          var splits = txt.split(\"\\t\");\n          var len = splits.length;\n          var hdrs = $(fixedHeader).find(\".fixed-cell\");\n          // Add all cells in the selected row as a map to be consumed by the target as needed\n          var payload = {type:\"select\", targetDivId: \"\" };\n          for (var i = 0; i < len; i++) {\n            payload[hdrs[i].innerHTML] = splits[i];\n          }\n  \n          //simple selection highlighting, client adds \"selected\" class\n          $(this).addClass(\"selected\").siblings().removeClass(\"selected\");\n          $(document).trigger('pd_event', payload);\n      });\n  \n      $('.df-table-search', tableWrapper).keyup(function() {\n        var val = '^(?=.*\\\\b' + $.trim($(this).val()).split(/\\s+/).join('\\\\b)(?=.*\\\\b') + ').*$';\n        var reg = RegExp(val, 'i');\n        var index = 0;\n        \n        rows.each(function(i, e) {\n          if (!reg.test($(this).text().replace(/\\s+/g, ' '))) {\n            $(this).attr('class', 'hidden');\n          }\n          else {\n            $(this).attr('class', (++index % 2 == 0 ? 'even' : 'odd'));\n          }\n        });\n        $('.df-table-search-count', tableWrapper).html('Showing ' + index + ' of ' + total + ' rows');\n      });\n    });\n  \n    $(\".df-table-wrapper td:contains('http://')\").each(function(){var tc = this.textContent; $(this).wrapInner(\"<a target='_blank' href='\" + tc + \"'></a>\");});\n    $(\".df-table-wrapper td:contains('https://')\").each(function(){var tc = this.textContent; $(this).wrapInner(\"<a target='_blank' href='\" + tc + \"'></a>\");});\n  </script>\n  \n        </div>", 
                        "text/plain": "<IPython.core.display.HTML object>"
                    }, 
                    "metadata": {}
                }
            ], 
            "source": "# Read in data to a DataFrame.\nbody = client_75340283764447f99797650de21e6211.get_object(\n    Bucket='bag3coip-donotdelete-pr-wlavvdgoryxgjb', Key='co_ip_no_keratin.csv')['Body']\nif not hasattr(body, \"__iter__\"): body.__iter__ = types.MethodType( __iter__, body )\nco_ip_df = pd.read_csv(body)\n\n# Rename columns to something clearer.\nco_ip_df.rename(columns={\n    \"Description\": \"Genes\", \n    \"Summed Abundance Ratio (log2): (Scr) / (SH)\": \"Abundance Ratio (log2)\",\n    \"Abundance Counts\": \"scrRNA Abundance\",\n    \"Unnamed: 12\": \"shBAG3 Abundance\"}, inplace=True)\n\n# Remove unneeded columns.\ncols = [\"Genes\", \"Abundance Ratio (log2)\", \"scrRNA Abundance\", \"shBAG3 Abundance\"]\nco_ip_df = co_ip_df[cols]\n\n# Sort by \"Abundance Ratio\".\ncols = \"Abundance Ratio (log2)\"\nco_ip_df.sort_values(by=cols, inplace=True, ascending=False)\n\n# Extract gene names from the larger metadata.\ncols = \"Genes\"\nco_ip_df[cols] = co_ip_df[cols].str.extract(\"((?<=GN=).*(?= PE=))\", expand=True)\nco_ip_df[cols] = co_ip_df[cols].str.upper()\nco_ip_df.dropna(axis=0, subset=[cols], inplace=True)\nco_ip_df = co_ip_df[~co_ip_df[cols].str.contains(\"BAG3\")]\n\n# Convert integer values to float.\ncols = [\"scrRNA Abundance\"]\nco_ip_df[cols] = co_ip_df[cols].astype(\"float\")\ncols = [\"shBAG3 Abundance\"]\nco_ip_df[cols] = co_ip_df[cols].astype(\"float\")\n\n# Add a simple ranking of genes by \"Abundance Ratio\".\nco_ip_df = co_ip_df.reset_index(drop=True)\nco_ip_df.index = co_ip_df.index + 1\nco_ip_df.insert(0, \"Rank\", co_ip_df.index)\n\n# Replace gene names with Watson entities.\nbody = client_75340283764447f99797650de21e6211.get_object(\n    Bucket='bag3coip-donotdelete-pr-wlavvdgoryxgjb', Key='EntitySet_BAG3-co-ip-all_2019-03-20_01-26-33.csv')['Body']\nif not hasattr(body, \"__iter__\"): body.__iter__ = types.MethodType( __iter__, body )\nentity_set_df = pd.read_csv(body)\nentity_set_df.index = entity_set_df.index + 1\ncols = \"Genes\"\nco_ip_df[cols] = entity_set_df[\"Entity name\"]\n\ndisplay(co_ip_df.head(10))"
        }, 
        {
            "source": "## Work in progress - more coming soon", 
            "cell_type": "markdown", 
            "metadata": {}
        }
    ], 
    "metadata": {
        "kernelspec": {
            "display_name": "Python 3.5 with Spark 2.1", 
            "name": "python3-spark21", 
            "language": "python"
        }, 
        "language_info": {
            "mimetype": "text/x-python", 
            "nbconvert_exporter": "python", 
            "version": "3.5.4", 
            "name": "python", 
            "file_extension": ".py", 
            "pygments_lexer": "ipython3", 
            "codemirror_mode": {
                "version": 3, 
                "name": "ipython"
            }
        }
    }, 
    "nbformat": 4
}